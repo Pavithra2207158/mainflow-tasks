{
 "cells": [
  {
   "cell_type": "code",
   "execution_count": 1,
   "id": "166d5c8a-c7f1-40e6-9cfa-aabe1f1d2e9b",
   "metadata": {},
   "outputs": [
    {
     "name": "stdout",
     "output_type": "stream",
     "text": [
      "Updated list: [10, 22, 'female', 'ram', 'sita']\n"
     ]
    }
   ],
   "source": [
    "#list\n",
    "#creating list\n",
    "list1=[\"abc\",47,22,\"female\",\"ram\"]\n",
    "\n",
    "#adding an element to list\n",
    "list1.append(\"sita\")\n",
    "\n",
    "#removing an element from the list\n",
    "list1.remove(47)\n",
    "\n",
    "#modifying an element in list\n",
    "list1[0]=10\n",
    "\n",
    "print(\"Updated list:\",list1)\n"
   ]
  },
  {
   "cell_type": "code",
   "execution_count": 2,
   "id": "b3c61737-e0a7-45c1-a333-5ea5a04f4e22",
   "metadata": {},
   "outputs": [
    {
     "name": "stdout",
     "output_type": "stream",
     "text": [
      "Updated dictionary: {'name': 'suresh', 'place': 'Delhi', 'gender': 'Male'}\n"
     ]
    }
   ],
   "source": [
    "#dictionaries\n",
    "#creating a dictionary\n",
    "dict={'name':'suresh','age':20,'place':'Hyderabad'}\n",
    "\n",
    "#adding\n",
    "dict['gender']='Male'\n",
    "\n",
    "#removing\n",
    "del dict['age']\n",
    "\n",
    "#modifying\n",
    "dict['place']='Delhi'\n",
    "\n",
    "print(\"Updated dictionary:\",dict)"
   ]
  },
  {
   "cell_type": "code",
   "execution_count": 3,
   "id": "87e9d2c9-af7e-4cb1-b9eb-0d87bf7c6e3f",
   "metadata": {},
   "outputs": [
    {
     "name": "stdout",
     "output_type": "stream",
     "text": [
      "Updated set: {0, 2, 4, 6, 'apple'}\n"
     ]
    }
   ],
   "source": [
    "#set\n",
    "#creating  a set\n",
    "set1={1,2,'balu','apple',0,False}\n",
    "\n",
    "#adding\n",
    "set1.add(6)\n",
    "\n",
    "#removing\n",
    "set1.remove(1)\n",
    "\n",
    "#modifying\n",
    "set1.discard('balu')\n",
    "set1.add(4)\n",
    "\n",
    "print(\"Updated set:\",set1)"
   ]
  },
  {
   "cell_type": "code",
   "execution_count": null,
   "id": "e2b4d23a-2766-4097-8a79-98c6f64171c0",
   "metadata": {},
   "outputs": [],
   "source": [
    "-"
   ]
  }
 ],
 "metadata": {
  "kernelspec": {
   "display_name": "Python 3 (ipykernel)",
   "language": "python",
   "name": "python3"
  },
  "language_info": {
   "codemirror_mode": {
    "name": "ipython",
    "version": 3
   },
   "file_extension": ".py",
   "mimetype": "text/x-python",
   "name": "python",
   "nbconvert_exporter": "python",
   "pygments_lexer": "ipython3",
   "version": "3.12.4"
  }
 },
 "nbformat": 4,
 "nbformat_minor": 5
}
